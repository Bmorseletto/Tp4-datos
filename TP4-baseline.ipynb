{
 "cells": [
  {
   "cell_type": "code",
   "execution_count": 17,
   "id": "136274f3",
   "metadata": {},
   "outputs": [],
   "source": [
    "#https://machinelearningmastery.com/develop-first-xgboost-model-python-scikit-learn/\n",
    "import bz2\n",
    "import nltk\n",
    "from sklearn.feature_extraction.text import CountVectorizer, TfidfVectorizer\n",
    "import random\n",
    "import numpy as np\n",
    "import matplotlib.pyplot as plt\n",
    "import pickle\n",
    "from tqdm import tqdm\n",
    "from tensorflow import keras\n",
    "import pandas as pd\n",
    "import gensim\n",
    "from collections import Counter\n",
    "from datetime import datetime\n",
    "from xgboost import XGBClassifier\n",
    "from sklearn import tree\n",
    "from tensorflow.keras.preprocessing.sequence import pad_sequences\n",
    "PALABRAS = 100000\n",
    "NUM_WORDS=100"
   ]
  },
  {
   "cell_type": "code",
   "execution_count": 2,
   "id": "c254cafc",
   "metadata": {},
   "outputs": [],
   "source": [
    "silk_items = pd.read_csv(\"silkroad_items.csv\")"
   ]
  },
  {
   "cell_type": "code",
   "execution_count": 3,
   "id": "fd9971a8",
   "metadata": {},
   "outputs": [],
   "source": [
    "boundary = silk_items[\"timestamp\"][int((len(silk_items)-1)*0.8)]"
   ]
  },
  {
   "cell_type": "code",
   "execution_count": 4,
   "id": "b3f9a24e",
   "metadata": {},
   "outputs": [],
   "source": [
    "categorias = list(silk_items[\"category\"].unique())\n",
    "dicc={}\n",
    "for i in range(len(categorias)):\n",
    "    dicc[categorias[i]] = i\n",
    "dicc[\"misc\"] = len(categorias)+1"
   ]
  },
  {
   "cell_type": "code",
   "execution_count": 5,
   "id": "fb707207",
   "metadata": {},
   "outputs": [],
   "source": [
    "silk_items[\"category\"] = silk_items[\"category\"].map(lambda x: dicc[x])"
   ]
  },
  {
   "cell_type": "code",
   "execution_count": 6,
   "id": "48fc6ab1",
   "metadata": {},
   "outputs": [],
   "source": [
    "\n",
    "silk_items_train = silk_items[silk_items[\"timestamp\"] <= boundary].filter([\"title\",\"description\", \"category\"])\n",
    "silk_items_train_y = silk_items_train[\"category\"]\n",
    "del silk_items_train[\"category\"]\n",
    "\n",
    "\n",
    "silk_items_validation = silk_items[silk_items[\"timestamp\"] > boundary].filter([\"title\",\"description\", \"category\"])\n",
    "silk_items_validation_y = silk_items_validation[\"category\"]\n",
    "del silk_items_validation[\"category\"]\n"
   ]
  },
  {
   "cell_type": "code",
   "execution_count": 7,
   "id": "d7831a13",
   "metadata": {},
   "outputs": [],
   "source": [
    "w2v_model = gensim.models.KeyedVectors.load_word2vec_format('GoogleNews-vectors-negative300.bin.gz', binary=True)"
   ]
  },
  {
   "cell_type": "code",
   "execution_count": 8,
   "id": "690389ba",
   "metadata": {},
   "outputs": [],
   "source": [
    "silk_items_train[\"titulos + descripcion\"] = (silk_items_train[\"title\"] + silk_items_train[\"description\"]).str.lower().map(lambda x: nltk.word_tokenize(x))\n",
    "silk_items_train_test = silk_items_train.filter([\"titulos + descripcion\"])"
   ]
  },
  {
   "cell_type": "code",
   "execution_count": 9,
   "id": "15c9618a",
   "metadata": {},
   "outputs": [],
   "source": [
    "emb_matrix = np.concatenate([np.zeros((1,300)), \n",
    "                             np.random.normal(size=(1,300)),\n",
    "                             w2v_model.vectors[:PALABRAS]], axis=0)"
   ]
  },
  {
   "cell_type": "code",
   "execution_count": 10,
   "id": "3d6c714b",
   "metadata": {},
   "outputs": [],
   "source": [
    "textos_tokenizados = list(silk_items_train_test[\"titulos + descripcion\"])"
   ]
  },
  {
   "cell_type": "code",
   "execution_count": 11,
   "id": "4ed7d5b8",
   "metadata": {},
   "outputs": [],
   "source": [
    "MAX_LEN = int(np.percentile([len(t) for t in textos_tokenizados], 95))"
   ]
  },
  {
   "cell_type": "code",
   "execution_count": 12,
   "id": "19139b48",
   "metadata": {},
   "outputs": [],
   "source": [
    "def preprocess_toks(textos_tokenizados):\n",
    "    textos_tokenizados =textos_tokenizados.copy()\n",
    "    if len(textos_tokenizados) > MAX_LEN:\n",
    "        textos_tokenizados = textos_tokenizados[:MAX_LEN]\n",
    "    for i in range(len(textos_tokenizados)):\n",
    "        if textos_tokenizados[i] in w2v_model and w2v_model.key_to_index[textos_tokenizados[i]]<PALABRAS:\n",
    "            textos_tokenizados[i] = w2v_model.key_to_index[textos_tokenizados[i]]+2\n",
    "        else:\n",
    "            textos_tokenizados[i] = 1\n",
    "    return textos_tokenizados"
   ]
  },
  {
   "cell_type": "code",
   "execution_count": 13,
   "id": "69e5f334",
   "metadata": {},
   "outputs": [
    {
     "name": "stderr",
     "output_type": "stream",
     "text": [
      "100%|████████████████████████████████| 320875/320875 [00:23<00:00, 13576.04it/s]\n"
     ]
    }
   ],
   "source": [
    "for i in tqdm(range(len(textos_tokenizados)), total=len(textos_tokenizados)):\n",
    "    textos_tokenizados[i] = preprocess_toks(textos_tokenizados[i])"
   ]
  },
  {
   "cell_type": "code",
   "execution_count": 14,
   "id": "dfe6afc3",
   "metadata": {},
   "outputs": [],
   "source": [
    "w2v_model = None\n",
    "silk_items_train = None\n",
    "silk_items_train_test = None"
   ]
  },
  {
   "cell_type": "code",
   "execution_count": 15,
   "id": "9ab8c4fb",
   "metadata": {},
   "outputs": [],
   "source": [
    "emb_df = pd.DataFrame(textos_tokenizados).fillna(1)"
   ]
  },
  {
   "cell_type": "code",
   "execution_count": 18,
   "id": "3888b9c0",
   "metadata": {},
   "outputs": [],
   "source": [
    "emb_seq = pad_sequences(\n",
    "    textos_tokenizados, maxlen=MAX_LEN, dtype='int32', padding='post',\n",
    "    truncating='post', value=0\n",
    ")\n"
   ]
  },
  {
   "cell_type": "code",
   "execution_count": 19,
   "id": "e24c593e",
   "metadata": {},
   "outputs": [],
   "source": [
    "textos_tokenizados = None"
   ]
  },
  {
   "cell_type": "code",
   "execution_count": 20,
   "id": "0722005c",
   "metadata": {},
   "outputs": [],
   "source": [
    "clf = tree.DecisionTreeClassifier()"
   ]
  },
  {
   "cell_type": "code",
   "execution_count": 21,
   "id": "3857a472",
   "metadata": {},
   "outputs": [
    {
     "data": {
      "text/plain": [
       "DecisionTreeClassifier()"
      ]
     },
     "execution_count": 21,
     "metadata": {},
     "output_type": "execute_result"
    }
   ],
   "source": [
    "clf.fit(emb_seq, silk_items_train_y)"
   ]
  },
  {
   "cell_type": "code",
   "execution_count": 22,
   "id": "fc22d16d",
   "metadata": {},
   "outputs": [],
   "source": [
    "silk_items_validation[\"titulos + descripcion\"] = (silk_items_validation[\"title\"] + silk_items_validation[\"description\"]).str.lower().map(lambda x: nltk.word_tokenize(x))\n",
    "silk_items_validation_test = list(silk_items_validation[\"titulos + descripcion\"])"
   ]
  },
  {
   "cell_type": "code",
   "execution_count": 23,
   "id": "d9fc1282",
   "metadata": {},
   "outputs": [],
   "source": [
    "w2v_model = gensim.models.KeyedVectors.load_word2vec_format('GoogleNews-vectors-negative300.bin.gz', binary=True)"
   ]
  },
  {
   "cell_type": "code",
   "execution_count": 24,
   "id": "6dd17a2d",
   "metadata": {},
   "outputs": [
    {
     "name": "stderr",
     "output_type": "stream",
     "text": [
      "100%|███████████████████████████████████| 80219/80219 [00:09<00:00, 8658.88it/s]\n"
     ]
    }
   ],
   "source": [
    "for i in tqdm(range(len(silk_items_validation_test)), total=len(silk_items_validation_test)):\n",
    "    silk_items_validation_test[i] = preprocess_toks(silk_items_validation_test[i])"
   ]
  },
  {
   "cell_type": "code",
   "execution_count": 25,
   "id": "71bd4e0b",
   "metadata": {},
   "outputs": [],
   "source": [
    "emb_df_val = pd.DataFrame(silk_items_validation_test).fillna(1)"
   ]
  },
  {
   "cell_type": "code",
   "execution_count": 26,
   "id": "50b4768a",
   "metadata": {},
   "outputs": [],
   "source": [
    "emb_val_seq = pad_sequences(\n",
    "    silk_items_validation_test, maxlen=MAX_LEN, dtype='int32', padding='post',\n",
    "    truncating='post', value=0\n",
    ")\n"
   ]
  },
  {
   "cell_type": "code",
   "execution_count": 27,
   "id": "c2c4c629",
   "metadata": {},
   "outputs": [],
   "source": [
    "from sklearn.metrics import classification_report, accuracy_score, roc_auc_score, ConfusionMatrixDisplay, confusion_matrix"
   ]
  },
  {
   "cell_type": "code",
   "execution_count": 28,
   "id": "e206aa4f",
   "metadata": {},
   "outputs": [
    {
     "data": {
      "text/plain": [
       "0.8723743751480323"
      ]
     },
     "execution_count": 28,
     "metadata": {},
     "output_type": "execute_result"
    }
   ],
   "source": [
    "accuracy_score(silk_items_validation_y, clf.predict(emb_val_seq))"
   ]
  },
  {
   "cell_type": "code",
   "execution_count": 29,
   "id": "2a722329",
   "metadata": {},
   "outputs": [],
   "source": [
    "versus = pd.read_csv(\"versus.csv\")"
   ]
  },
  {
   "cell_type": "code",
   "execution_count": 30,
   "id": "fdfe3a38",
   "metadata": {},
   "outputs": [],
   "source": [
    "versus_y = versus[\"Category\"].map(lambda x: x if x in dicc.keys() else \"misc\" ).map(lambda x: dicc[x])"
   ]
  },
  {
   "cell_type": "code",
   "execution_count": 31,
   "id": "9887db1a",
   "metadata": {},
   "outputs": [],
   "source": [
    "versus_val = list(versus[\"title\"].str.lower().map(lambda x: nltk.word_tokenize(x)))"
   ]
  },
  {
   "cell_type": "code",
   "execution_count": 32,
   "id": "44f2252d",
   "metadata": {},
   "outputs": [
    {
     "name": "stderr",
     "output_type": "stream",
     "text": [
      "100%|█████████████████████████████████| 16015/16015 [00:00<00:00, 227562.09it/s]\n"
     ]
    }
   ],
   "source": [
    "for i in tqdm(range(len(versus_val)), total=len(versus_val)):\n",
    "    versus_val[i] = preprocess_toks(versus_val[i])"
   ]
  },
  {
   "cell_type": "code",
   "execution_count": 33,
   "id": "81ed8a06",
   "metadata": {},
   "outputs": [],
   "source": [
    "emb_versus_val = pd.DataFrame(versus_val).fillna(1)"
   ]
  },
  {
   "cell_type": "code",
   "execution_count": 34,
   "id": "fd93ef52",
   "metadata": {},
   "outputs": [],
   "source": [
    "emb_versus_seq = pad_sequences(\n",
    "    versus_val, maxlen=MAX_LEN, dtype='int32', padding='post',\n",
    "    truncating='post', value=0\n",
    ")\n"
   ]
  },
  {
   "cell_type": "code",
   "execution_count": 37,
   "id": "19e080eb",
   "metadata": {},
   "outputs": [
    {
     "data": {
      "text/plain": [
       "0.0333437402435217"
      ]
     },
     "execution_count": 37,
     "metadata": {},
     "output_type": "execute_result"
    }
   ],
   "source": [
    "accuracy_score(versus_y, clf.predict(emb_versus_seq))"
   ]
  },
  {
   "cell_type": "code",
   "execution_count": null,
   "id": "7939eb92",
   "metadata": {},
   "outputs": [],
   "source": []
  }
 ],
 "metadata": {
  "kernelspec": {
   "display_name": "Python 3 (ipykernel)",
   "language": "python",
   "name": "python3"
  },
  "language_info": {
   "codemirror_mode": {
    "name": "ipython",
    "version": 3
   },
   "file_extension": ".py",
   "mimetype": "text/x-python",
   "name": "python",
   "nbconvert_exporter": "python",
   "pygments_lexer": "ipython3",
   "version": "3.8.10"
  }
 },
 "nbformat": 4,
 "nbformat_minor": 5
}
