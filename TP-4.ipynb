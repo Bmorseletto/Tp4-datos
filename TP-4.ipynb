{
 "cells": [
  {
   "cell_type": "code",
   "execution_count": 1,
   "id": "edd1192f",
   "metadata": {},
   "outputs": [
    {
     "name": "stderr",
     "output_type": "stream",
     "text": [
      "2021-12-20 10:08:18.018934: W tensorflow/stream_executor/platform/default/dso_loader.cc:64] Could not load dynamic library 'libcudart.so.11.0'; dlerror: libcudart.so.11.0: cannot open shared object file: No such file or directory\n",
      "2021-12-20 10:08:18.018962: I tensorflow/stream_executor/cuda/cudart_stub.cc:29] Ignore above cudart dlerror if you do not have a GPU set up on your machine.\n"
     ]
    }
   ],
   "source": [
    "import bz2\n",
    "import nltk\n",
    "from sklearn.feature_extraction.text import CountVectorizer, TfidfVectorizer\n",
    "import random\n",
    "import numpy as np\n",
    "import matplotlib.pyplot as plt\n",
    "import pickle\n",
    "from tqdm import tqdm\n",
    "from tensorflow import keras\n",
    "import pandas as pd\n",
    "import gensim\n",
    "from collections import Counter\n",
    "from sklearn.decomposition import TruncatedSVD\n",
    "PALABRAS = 100000\n",
    "NUM_WORDS=100"
   ]
  },
  {
   "cell_type": "code",
   "execution_count": 2,
   "id": "5fa8da49",
   "metadata": {},
   "outputs": [],
   "source": [
    "from tensorflow.keras.preprocessing.sequence import pad_sequences\n",
    "from tensorflow.keras.layers import Dense, Input, Conv2D, GlobalMaxPooling2D, Concatenate\n",
    "from tensorflow.keras.optimizers import Adam\n",
    "from tensorflow.keras.models import Model\n",
    "from keras.layers import Dense, Input, GRU, Embedding"
   ]
  },
  {
   "cell_type": "code",
   "execution_count": 3,
   "id": "282bed98",
   "metadata": {},
   "outputs": [],
   "source": [
    "silk_items = pd.read_csv(\"silkroad_items.csv\")"
   ]
  },
  {
   "cell_type": "code",
   "execution_count": 4,
   "id": "3d808706",
   "metadata": {},
   "outputs": [],
   "source": [
    "boundary = silk_items[\"timestamp\"][int((len(silk_items)-1)*0.8)]"
   ]
  },
  {
   "cell_type": "code",
   "execution_count": 5,
   "id": "aed21fe8",
   "metadata": {},
   "outputs": [],
   "source": [
    "#silk_items =silk_items.filter([\"title\", \"description\", \"category\"])"
   ]
  },
  {
   "cell_type": "code",
   "execution_count": 6,
   "id": "859915ba",
   "metadata": {},
   "outputs": [],
   "source": [
    "#silk_items[\"titulos + descripcion\"] = silk_items[\"title\"] + silk_items[\"description\"]"
   ]
  },
  {
   "cell_type": "code",
   "execution_count": 7,
   "id": "20c1aa98",
   "metadata": {},
   "outputs": [],
   "source": [
    "top_50_categorias = (silk_items[\"category\"].value_counts())[:50].keys()"
   ]
  },
  {
   "cell_type": "code",
   "execution_count": 8,
   "id": "8e8e2a4c",
   "metadata": {},
   "outputs": [],
   "source": [
    "#silk_items[\"category\"] = silk_items[\"category\"].map(lambda x: x if x in top_50_categorias else \"extra\" )"
   ]
  },
  {
   "cell_type": "code",
   "execution_count": 9,
   "id": "1bd04454",
   "metadata": {},
   "outputs": [],
   "source": [
    "categorias = list(silk_items[\"category\"].unique())"
   ]
  },
  {
   "cell_type": "code",
   "execution_count": 10,
   "id": "c852710f",
   "metadata": {},
   "outputs": [],
   "source": [
    "dicc={}\n",
    "for i in range(len(categorias)):\n",
    "    dicc[categorias[i]] = i\n",
    "dicc[\"misc\"] = (len(categorias)+1)"
   ]
  },
  {
   "cell_type": "code",
   "execution_count": 11,
   "id": "9d907c62",
   "metadata": {},
   "outputs": [],
   "source": [
    "silk_items[\"category\"] = silk_items[\"category\"].map(lambda x: dicc[x])"
   ]
  },
  {
   "cell_type": "code",
   "execution_count": 12,
   "id": "f397010f",
   "metadata": {},
   "outputs": [],
   "source": [
    "#silk_items[\"titulos + descripcion\"] = silk_items[\"titulos + descripcion\"].str.lower().map(lambda x: nltk.word_tokenize(x))"
   ]
  },
  {
   "cell_type": "code",
   "execution_count": 13,
   "id": "dc17baf7",
   "metadata": {},
   "outputs": [],
   "source": [
    "silk_items[\"titulos + descripcion\"] = (silk_items[\"title\"] + silk_items[\"description\"]).str.lower().map(lambda x: nltk.word_tokenize(x))\n",
    "#silk_items_train_test = silk_items_train.filter([\"titulos + descripcion\"])"
   ]
  },
  {
   "cell_type": "code",
   "execution_count": 14,
   "id": "f5c15642",
   "metadata": {},
   "outputs": [],
   "source": [
    "silk_items_train = silk_items[silk_items[\"timestamp\"] <= boundary].filter([\"titulos + descripcion\", \"category\"])\n",
    "silk_items_validation = silk_items[silk_items[\"timestamp\"] > boundary].filter([\"titulos + descripcion\", \"category\"])"
   ]
  },
  {
   "cell_type": "code",
   "execution_count": 15,
   "id": "f32a6157",
   "metadata": {},
   "outputs": [],
   "source": [
    "w2v_model = gensim.models.KeyedVectors.load_word2vec_format('GoogleNews-vectors-negative300.bin.gz', binary=True)"
   ]
  },
  {
   "cell_type": "code",
   "execution_count": 16,
   "id": "00becca4",
   "metadata": {
    "scrolled": true
   },
   "outputs": [],
   "source": [
    "emb_matrix = np.concatenate([np.zeros((1,300)), \n",
    "                             np.random.normal(size=(1,300)),\n",
    "                             w2v_model.vectors[:PALABRAS]], axis=0)"
   ]
  },
  {
   "cell_type": "code",
   "execution_count": 17,
   "id": "34338d00",
   "metadata": {},
   "outputs": [],
   "source": [
    "silk_items_train_y = silk_items_train[\"category\"]\n",
    "silk_items_validation_y = silk_items_validation[\"category\"]"
   ]
  },
  {
   "cell_type": "code",
   "execution_count": 18,
   "id": "4e43de64",
   "metadata": {},
   "outputs": [],
   "source": [
    "x_train = list(silk_items_train[\"titulos + descripcion\"])\n",
    "x_val = list(silk_items_validation[\"titulos + descripcion\"])"
   ]
  },
  {
   "cell_type": "code",
   "execution_count": 19,
   "id": "ab1b11cb",
   "metadata": {},
   "outputs": [],
   "source": [
    "silk_items_train = None\n",
    "silk_items_validation = None\n",
    "silk_items = None"
   ]
  },
  {
   "cell_type": "code",
   "execution_count": 20,
   "id": "9405d973",
   "metadata": {},
   "outputs": [],
   "source": [
    "def preprocess_toks(textos_tokenizado):\n",
    "    textos_tokenizado =textos_tokenizado.copy()\n",
    "    max_len = int(np.percentile([len(t) for t in textos_tokenizado], 95))\n",
    "    if len(textos_tokenizado) > max_len:\n",
    "        textos_tokenizado = textos_tokenizado[:max_len]\n",
    "    for i in range(len(textos_tokenizado)):\n",
    "        if textos_tokenizado[i] in w2v_model and w2v_model.key_to_index[textos_tokenizado[i]]<PALABRAS:\n",
    "            textos_tokenizado[i] = w2v_model.key_to_index[textos_tokenizado[i]]+2\n",
    "        else:\n",
    "            textos_tokenizado[i] = 1\n",
    "    return textos_tokenizado"
   ]
  },
  {
   "cell_type": "raw",
   "id": "b36ca415",
   "metadata": {},
   "source": [
    "for i in tqdm(range(len(textos_tokenizados)), total=len(textos_tokenizados)):\n",
    "    textos_tokenizados[i] = preprocess_toks(textos_tokenizados[i])"
   ]
  },
  {
   "cell_type": "code",
   "execution_count": 21,
   "id": "7df50f1c",
   "metadata": {},
   "outputs": [],
   "source": [
    "#w2v_model = None"
   ]
  },
  {
   "cell_type": "code",
   "execution_count": 22,
   "id": "87dee179",
   "metadata": {},
   "outputs": [],
   "source": [
    "silk_items = None"
   ]
  },
  {
   "cell_type": "code",
   "execution_count": 23,
   "id": "7c4d336f",
   "metadata": {
    "scrolled": true
   },
   "outputs": [
    {
     "name": "stderr",
     "output_type": "stream",
     "text": [
      "100%|████████████████████████████████| 320875/320875 [00:28<00:00, 11286.55it/s]\n",
      "2021-12-20 10:14:56.989274: W tensorflow/stream_executor/platform/default/dso_loader.cc:64] Could not load dynamic library 'libcuda.so.1'; dlerror: libcuda.so.1: cannot open shared object file: No such file or directory\n",
      "2021-12-20 10:14:56.991169: W tensorflow/stream_executor/cuda/cuda_driver.cc:269] failed call to cuInit: UNKNOWN ERROR (303)\n",
      "2021-12-20 10:14:56.995346: I tensorflow/stream_executor/cuda/cuda_diagnostics.cc:156] kernel driver does not appear to be running on this host (bruno-VirtualBox): /proc/driver/nvidia/version does not exist\n",
      "2021-12-20 10:14:57.026329: I tensorflow/core/platform/cpu_feature_guard.cc:151] This TensorFlow binary is optimized with oneAPI Deep Neural Network Library (oneDNN) to use the following CPU instructions in performance-critical operations:  AVX2\n",
      "To enable them in other operations, rebuild TensorFlow with the appropriate compiler flags.\n"
     ]
    },
    {
     "name": "stdout",
     "output_type": "stream",
     "text": [
      "Epoch 1/20\n",
      "1129/1129 [==============================] - 167s 145ms/step - loss: 3.2731 - accuracy: 0.2902 - val_loss: 2.0922 - val_accuracy: 0.5244\n",
      "Epoch 2/20\n",
      "1129/1129 [==============================] - 167s 148ms/step - loss: 2.0609 - accuracy: 0.5460 - val_loss: 1.4948 - val_accuracy: 0.6780\n",
      "Epoch 3/20\n",
      "1129/1129 [==============================] - 166s 147ms/step - loss: 1.6216 - accuracy: 0.6354 - val_loss: 1.2206 - val_accuracy: 0.7419\n",
      "Epoch 4/20\n",
      "1129/1129 [==============================] - 165s 146ms/step - loss: 1.4081 - accuracy: 0.6702 - val_loss: 1.0769 - val_accuracy: 0.7730\n",
      "Epoch 5/20\n",
      "1129/1129 [==============================] - 167s 148ms/step - loss: 1.2551 - accuracy: 0.6965 - val_loss: 0.9895 - val_accuracy: 0.7924\n",
      "Epoch 6/20\n",
      "1129/1129 [==============================] - 163s 145ms/step - loss: 1.1476 - accuracy: 0.7140 - val_loss: 0.9229 - val_accuracy: 0.8061\n",
      "Epoch 7/20\n",
      "1129/1129 [==============================] - 162s 143ms/step - loss: 1.0678 - accuracy: 0.7264 - val_loss: 0.8619 - val_accuracy: 0.8189\n",
      "Epoch 8/20\n",
      "1129/1129 [==============================] - 171s 151ms/step - loss: 1.0049 - accuracy: 0.7354 - val_loss: 0.8213 - val_accuracy: 0.8314\n",
      "Epoch 9/20\n",
      "1129/1129 [==============================] - 152s 134ms/step - loss: 0.9591 - accuracy: 0.7424 - val_loss: 0.7930 - val_accuracy: 0.8378\n",
      "Epoch 10/20\n",
      "1129/1129 [==============================] - 162s 144ms/step - loss: 0.9101 - accuracy: 0.7497 - val_loss: 0.7899 - val_accuracy: 0.8419\n",
      "Epoch 11/20\n",
      "1129/1129 [==============================] - 159s 141ms/step - loss: 0.8855 - accuracy: 0.7523 - val_loss: 0.7555 - val_accuracy: 0.8513\n",
      "Epoch 12/20\n",
      "1129/1129 [==============================] - 146s 129ms/step - loss: 0.8582 - accuracy: 0.7559 - val_loss: 0.7543 - val_accuracy: 0.8500\n",
      "Epoch 13/20\n",
      "1129/1129 [==============================] - 147s 130ms/step - loss: 0.8306 - accuracy: 0.7602 - val_loss: 0.7155 - val_accuracy: 0.8549\n",
      "Epoch 14/20\n",
      "1129/1129 [==============================] - 143s 126ms/step - loss: 0.8074 - accuracy: 0.7631 - val_loss: 0.7181 - val_accuracy: 0.8572\n",
      "Epoch 15/20\n",
      "1129/1129 [==============================] - 148s 131ms/step - loss: 0.7968 - accuracy: 0.7639 - val_loss: 0.7047 - val_accuracy: 0.8568\n",
      "Epoch 16/20\n",
      "1129/1129 [==============================] - 153s 136ms/step - loss: 0.7778 - accuracy: 0.7667 - val_loss: 0.7003 - val_accuracy: 0.8584\n",
      "Epoch 17/20\n",
      "1129/1129 [==============================] - 153s 136ms/step - loss: 0.7632 - accuracy: 0.7684 - val_loss: 0.6884 - val_accuracy: 0.8629\n",
      "Epoch 18/20\n",
      "1129/1129 [==============================] - 155s 137ms/step - loss: 0.7798 - accuracy: 0.7639 - val_loss: 0.7157 - val_accuracy: 0.8544\n",
      "Epoch 19/20\n",
      "1129/1129 [==============================] - 158s 140ms/step - loss: 0.7476 - accuracy: 0.7707 - val_loss: 0.7130 - val_accuracy: 0.8555\n",
      "Epoch 20/20\n",
      "1129/1129 [==============================] - 160s 141ms/step - loss: 0.7350 - accuracy: 0.7722 - val_loss: 0.6924 - val_accuracy: 0.8587\n"
     ]
    },
    {
     "data": {
      "text/plain": [
       "<keras.callbacks.History at 0x7f299d024c10>"
      ]
     },
     "execution_count": 23,
     "metadata": {},
     "output_type": "execute_result"
    }
   ],
   "source": [
    "\n",
    "max_len = 100\n",
    "for i in tqdm(range(len(x_train)), total=len(x_train)):\n",
    "    x_train[i] = preprocess_toks(x_train[i])\n",
    "x_train = pad_sequences(\n",
    "    x_train, maxlen=max_len, dtype='int32', padding='post',\n",
    "    truncating='post', value=0\n",
    ")\n",
    "word_indexes = Input((x_train.shape[1],), dtype='int32')\n",
    "word_emb = Embedding(PALABRAS+2, 300, weights=[emb_matrix], \n",
    "                     trainable=False, mask_zero=True)\n",
    "\n",
    "emb_sequence = word_emb(word_indexes) \n",
    "rnn1 = GRU(100, activation='tanh')(emb_sequence) \n",
    "dense1 = Dense(50, activation='sigmoid')(rnn1)\n",
    "\n",
    "out = Dense(len(dicc), activation=\"softmax\")(dense1)\n",
    "model = Model(inputs=word_indexes, outputs=out)\n",
    "model.compile(optimizer=keras.optimizers.Adam(learning_rate=0.001), loss=\"sparse_categorical_crossentropy\", metrics=[\"accuracy\"])\n",
    "model.fit(x_train, silk_items_train_y.values, validation_split=0.1, epochs=20, batch_size=256)\n"
   ]
  },
  {
   "cell_type": "code",
   "execution_count": 24,
   "id": "8e599457",
   "metadata": {
    "scrolled": true
   },
   "outputs": [
    {
     "name": "stdout",
     "output_type": "stream",
     "text": [
      "Model: \"model\"\n",
      "_________________________________________________________________\n",
      " Layer (type)                Output Shape              Param #   \n",
      "=================================================================\n",
      " input_1 (InputLayer)        [(None, 100)]             0         \n",
      "                                                                 \n",
      " embedding (Embedding)       (None, 100, 300)          30000600  \n",
      "                                                                 \n",
      " gru (GRU)                   (None, 100)               120600    \n",
      "                                                                 \n",
      " dense (Dense)               (None, 50)                5050      \n",
      "                                                                 \n",
      " dense_1 (Dense)             (None, 306)               15606     \n",
      "                                                                 \n",
      "=================================================================\n",
      "Total params: 30,141,856\n",
      "Trainable params: 141,256\n",
      "Non-trainable params: 30,000,600\n",
      "_________________________________________________________________\n"
     ]
    }
   ],
   "source": [
    "model.summary()"
   ]
  },
  {
   "cell_type": "code",
   "execution_count": 25,
   "id": "22d0f3a2",
   "metadata": {},
   "outputs": [
    {
     "name": "stderr",
     "output_type": "stream",
     "text": [
      "2021-12-20 11:07:50.112325: W tensorflow/python/util/util.cc:368] Sets are not currently considered sequences, but this may change in the future, so consider avoiding using them.\n",
      "WARNING:absl:Found untraced functions such as gru_cell_layer_call_fn, gru_cell_layer_call_and_return_conditional_losses, gru_cell_layer_call_fn, gru_cell_layer_call_and_return_conditional_losses, gru_cell_layer_call_and_return_conditional_losses while saving (showing 5 of 5). These functions will not be directly callable after loading.\n"
     ]
    },
    {
     "name": "stdout",
     "output_type": "stream",
     "text": [
      "INFO:tensorflow:Assets written to: ram://b672541f-300b-4374-8c2d-b9478adc33c6/assets\n"
     ]
    },
    {
     "name": "stderr",
     "output_type": "stream",
     "text": [
      "INFO:tensorflow:Assets written to: ram://b672541f-300b-4374-8c2d-b9478adc33c6/assets\n",
      "WARNING:absl:<keras.layers.recurrent.GRUCell object at 0x7f28cf6cb760> has the same name 'GRUCell' as a built-in Keras object. Consider renaming <class 'keras.layers.recurrent.GRUCell'> to avoid naming conflicts when loading with `tf.keras.models.load_model`. If renaming is not possible, pass the object in the `custom_objects` parameter of the load function.\n"
     ]
    }
   ],
   "source": [
    "import pickle\n",
    "with open('model_backup', 'wb') as model_backup_file:\n",
    "    pickle.dump(model, model_backup_file)"
   ]
  },
  {
   "cell_type": "code",
   "execution_count": 26,
   "id": "da124c93",
   "metadata": {},
   "outputs": [],
   "source": [
    "from sklearn.metrics import classification_report, accuracy_score, roc_auc_score, ConfusionMatrixDisplay, confusion_matrix"
   ]
  },
  {
   "cell_type": "code",
   "execution_count": 27,
   "id": "408d8fb0",
   "metadata": {},
   "outputs": [
    {
     "name": "stderr",
     "output_type": "stream",
     "text": [
      "100%|██████████████████████████████████| 80219/80219 [00:06<00:00, 12551.68it/s]\n"
     ]
    }
   ],
   "source": [
    "for i in tqdm(range(len(x_val)), total=len(x_val)):\n",
    "    x_val[i] = preprocess_toks(x_val[i])\n",
    "x_val = pad_sequences(\n",
    "    x_val, maxlen=max_len, dtype='int32', padding='post',\n",
    "    truncating='post', value=0\n",
    ")"
   ]
  },
  {
   "cell_type": "code",
   "execution_count": 28,
   "id": "606b062f",
   "metadata": {},
   "outputs": [],
   "source": [
    "w2v_model = None"
   ]
  },
  {
   "cell_type": "code",
   "execution_count": 29,
   "id": "4e5c7f4b",
   "metadata": {},
   "outputs": [
    {
     "data": {
      "text/plain": [
       "0.8255276181453272"
      ]
     },
     "execution_count": 29,
     "metadata": {},
     "output_type": "execute_result"
    }
   ],
   "source": [
    "accuracy_score(silk_items_validation_y, np.argmax(model.predict(x_val),axis = 1))"
   ]
  },
  {
   "cell_type": "code",
   "execution_count": 30,
   "id": "f52c9d09",
   "metadata": {},
   "outputs": [],
   "source": [
    "silk_items_validation_y = None\n",
    "titulos_tokenizados = None\n",
    "descripciones_tokenizadas = None\n",
    "titulos_tokenizados_validation = None\n",
    "descripciones_tokenizadas_validation = None"
   ]
  },
  {
   "cell_type": "code",
   "execution_count": 31,
   "id": "8fe17224",
   "metadata": {},
   "outputs": [],
   "source": [
    "w2v_model = gensim.models.KeyedVectors.load_word2vec_format('GoogleNews-vectors-negative300.bin.gz', binary=True)"
   ]
  },
  {
   "cell_type": "code",
   "execution_count": 32,
   "id": "88102ff2",
   "metadata": {},
   "outputs": [],
   "source": [
    "def prediccion(df, modelos):\n",
    "    predicciones = []\n",
    "    df_filter = df.filter([\"title\", \"description\"]).applymap(lambda x: nltk.word_tokenize(x.lower()))\n",
    "    for columnas in df_filter.columns:\n",
    "        columna_actual = list(df_filter[columnas])\n",
    "        for i in tqdm(range(len((columna_actual))), total=len(columna_actual)):\n",
    "            columna_actual[i] = preprocess_toks(columna_actual[i])\n",
    "        columna_actual = pad_sequences(\n",
    "            columna_actual, maxlen=100, dtype='int32', padding='post',\n",
    "            truncating='post', value=0\n",
    "        )\n",
    "        predicciones.append(modelos.predict(columna_actual))\n",
    "    prediccion = sum(predicciones)\n",
    "    return np.argmax(prediccion ,axis = 1)"
   ]
  },
  {
   "cell_type": "code",
   "execution_count": 33,
   "id": "6669adef",
   "metadata": {},
   "outputs": [],
   "source": [
    "versus = pd.read_csv(\"versus.csv\")"
   ]
  },
  {
   "cell_type": "code",
   "execution_count": 36,
   "id": "62625ab3",
   "metadata": {},
   "outputs": [],
   "source": [
    "versus[\"Category\"] = versus[\"Category\"].map(lambda x: x if x in list(dicc.keys()) else \"misc\" ).map(lambda x: dicc[x])"
   ]
  },
  {
   "cell_type": "code",
   "execution_count": 37,
   "id": "012e85ed",
   "metadata": {},
   "outputs": [],
   "source": [
    "versus_y = versus[\"Category\"]"
   ]
  },
  {
   "cell_type": "code",
   "execution_count": 38,
   "id": "564b9ae0",
   "metadata": {},
   "outputs": [
    {
     "name": "stderr",
     "output_type": "stream",
     "text": [
      "100%|██████████████████████████████████| 16015/16015 [00:00<00:00, 19155.62it/s]\n"
     ]
    },
    {
     "data": {
      "text/plain": [
       "0.13512332188573212"
      ]
     },
     "execution_count": 38,
     "metadata": {},
     "output_type": "execute_result"
    }
   ],
   "source": [
    "accuracy_score(versus_y, prediccion(versus, model))"
   ]
  },
  {
   "cell_type": "code",
   "execution_count": null,
   "id": "b9ea33e8",
   "metadata": {},
   "outputs": [],
   "source": []
  }
 ],
 "metadata": {
  "kernelspec": {
   "display_name": "Python 3 (ipykernel)",
   "language": "python",
   "name": "python3"
  },
  "language_info": {
   "codemirror_mode": {
    "name": "ipython",
    "version": 3
   },
   "file_extension": ".py",
   "mimetype": "text/x-python",
   "name": "python",
   "nbconvert_exporter": "python",
   "pygments_lexer": "ipython3",
   "version": "3.8.10"
  }
 },
 "nbformat": 4,
 "nbformat_minor": 5
}
